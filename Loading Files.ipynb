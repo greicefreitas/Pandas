{
    "nbformat_minor": 1, 
    "cells": [
        {
            "source": "# Bank Client Data", 
            "cell_type": "markdown", 
            "metadata": {
                "collapsed": true
            }
        }, 
        {
            "execution_count": 1, 
            "cell_type": "code", 
            "metadata": {}, 
            "outputs": [], 
            "source": "# Importing Pandas library\nimport pandas as pd"
        }, 
        {
            "execution_count": 2, 
            "cell_type": "code", 
            "metadata": {}, 
            "outputs": [
                {
                    "execution_count": 2, 
                    "metadata": {}, 
                    "data": {
                        "text/plain": "(45211, 17)"
                    }, 
                    "output_type": "execute_result"
                }
            ], 
            "source": "# The code was removed by Watson Studio for sharing."
        }, 
        {
            "execution_count": 3, 
            "cell_type": "code", 
            "metadata": {}, 
            "outputs": [
                {
                    "output_type": "stream", 
                    "name": "stdout", 
                    "text": "<class 'pandas.core.frame.DataFrame'>\nRangeIndex: 45211 entries, 0 to 45210\nData columns (total 17 columns):\nage          45211 non-null int64\njob          45211 non-null object\nmarital      45211 non-null object\neducation    45211 non-null object\ndefault      45211 non-null object\nbalance      45211 non-null int64\nhousing      45211 non-null object\nloan         45211 non-null object\ncontact      45211 non-null object\nday          45211 non-null int64\nmonth        45211 non-null object\nduration     45211 non-null int64\ncampaign     45211 non-null int64\npdays        45211 non-null int64\nprevious     45211 non-null int64\npoutcome     45211 non-null object\ny            45211 non-null object\ndtypes: int64(7), object(10)\nmemory usage: 5.9+ MB\n"
                }
            ], 
            "source": "df.info()"
        }, 
        {
            "source": "\n   # Bank Client Data:\n   \n   1 - age (numeric)   \n   2 - job : type of job (categorical:   \"admin.\",\"unknown\",\"unemployed\",\"management\",\"housemaid\",\"entrepreneur\",\"student\",\n                                       \"blue-collar\",\"self-employed\",\"retired\",\"technician\",\"services\")   \n   3 - marital : marital status (categorical: \"married\",\"divorced\",\"single\"; note: \"divorced\" means divorced or widowed)   \n   4 - education (categorical: \"unknown\",\"secondary\",\"primary\",\"tertiary\")  \n   5 - default: has credit in default? (binary: \"yes\",\"no\")  \n   6 - balance: average yearly balance, in euros (numeric)   \n   7 - housing: has housing loan? (binary: \"yes\",\"no\")  \n   8 - loan: has personal loan? (binary: \"yes\",\"no\")  \n   \n   ### related with the last contact of the current campaign:\n   \n   9 - contact: contact communication type (categorical: \"unknown\",\"telephone\",\"cellular\")   \n  10 - day: last contact day of the month (numeric)  \n  11 - month: last contact month of year (categorical: \"jan\", \"feb\", \"mar\", ..., \"nov\", \"dec\")  \n  12 - duration: last contact duration, in seconds (numeric)  \n  \n   ### other attributes:\n   \n  13 - campaign: number of contacts performed during this campaign and for this client (numeric, includes last contact)  \n  14 - pdays: number of days that passed by after the client was last contacted from a previous campaign (numeric, -1 means client was not previously contacted)  \n  15 - previous: number of contacts performed before this campaign and for this client (numeric)    \n  16 - poutcome: outcome of the previous marketing campaign (categorical: \"unknown\",\"other\",\"failure\",\"success\")  \n\n  ### Output variable (desired target):  \n  17 - y - has the client subscribed a term deposit? (binary: \"yes\",\"no\")\n", 
            "cell_type": "markdown", 
            "metadata": {}
        }, 
        {
            "execution_count": 4, 
            "cell_type": "code", 
            "metadata": {}, 
            "outputs": [
                {
                    "execution_count": 4, 
                    "metadata": {}, 
                    "data": {
                        "text/plain": "age           int64\njob          object\nmarital      object\neducation    object\ndefault      object\nbalance       int64\nhousing      object\nloan         object\ncontact      object\nday           int64\nmonth        object\nduration      int64\ncampaign      int64\npdays         int64\nprevious      int64\npoutcome     object\ny            object\ndtype: object"
                    }, 
                    "output_type": "execute_result"
                }
            ], 
            "source": "df.dtypes"
        }, 
        {
            "execution_count": 5, 
            "cell_type": "code", 
            "metadata": {}, 
            "outputs": [
                {
                    "output_type": "stream", 
                    "name": "stdout", 
                    "text": "age False    45211\nName: age, dtype: int64 \n\njob False    45211\nName: job, dtype: int64 \n\nmarital False    45211\nName: marital, dtype: int64 \n\neducation False    45211\nName: education, dtype: int64 \n\ndefault False    45211\nName: default, dtype: int64 \n\nbalance False    45211\nName: balance, dtype: int64 \n\nhousing False    45211\nName: housing, dtype: int64 \n\nloan False    45211\nName: loan, dtype: int64 \n\ncontact False    45211\nName: contact, dtype: int64 \n\nday False    45211\nName: day, dtype: int64 \n\nmonth False    45211\nName: month, dtype: int64 \n\nduration False    45211\nName: duration, dtype: int64 \n\ncampaign False    45211\nName: campaign, dtype: int64 \n\npdays False    45211\nName: pdays, dtype: int64 \n\nprevious False    45211\nName: previous, dtype: int64 \n\npoutcome False    45211\nName: poutcome, dtype: int64 \n\n"
                }
            ], 
            "source": "# Looking for missing data:\n\nfor i in range(16):\n    missing = pd.isna(df.iloc[:,i])\n    print(df.columns.tolist()[i], missing.value_counts(), '\\n')\n"
        }, 
        {
            "execution_count": 6, 
            "cell_type": "code", 
            "metadata": {
                "scrolled": true
            }, 
            "outputs": [
                {
                    "output_type": "stream", 
                    "name": "stdout", 
                    "text": "0         5\n1         5\n2         5\n3         5\n4         5\n5         5\n6         5\n7         5\n8         5\n9         5\n10        5\n11        5\n12        5\n13        5\n14        5\n15        5\n16        5\n17        5\n18        5\n19        5\n20        5\n21        5\n22        5\n23        5\n24        5\n25        5\n26        5\n27        5\n28        5\n29        5\n         ..\n45181    11\n45182    11\n45183    11\n45184    11\n45185    11\n45186    11\n45187    11\n45188    11\n45189    11\n45190    11\n45191    11\n45192    11\n45193    11\n45194    11\n45195    11\n45196    11\n45197    11\n45198    11\n45199    11\n45200    11\n45201    11\n45202    11\n45203    11\n45204    11\n45205    11\n45206    11\n45207    11\n45208    11\n45209    11\n45210    11\nName: month, Length: 45211, dtype: int64\n"
                }
            ], 
            "source": "# working on 11 - month: last contact month of year (categorical: \"jan\", \"feb\", \"mar\", ..., \"nov\", \"dec\")\nD_months = {'jan': 1, 'feb': 2, 'mar': 3, 'apr': 4, 'may': 5, 'jun': 6, 'jul': 7, 'aug': 8, 'sep': 9, 'oct': 10, 'nov': 11, 'dec': 12}\ndf['month'].replace(to_replace = D_months,  inplace=True)\nprint(df['month'])\n"
        }, 
        {
            "execution_count": 7, 
            "cell_type": "code", 
            "metadata": {}, 
            "outputs": [
                {
                    "execution_count": 7, 
                    "metadata": {}, 
                    "data": {
                        "text/plain": "age           int64\njob          object\nmarital      object\neducation    object\ndefault      object\nbalance       int64\nhousing      object\nloan         object\ncontact      object\nday           int64\nmonth         int64\nduration      int64\ncampaign      int64\npdays         int64\nprevious      int64\npoutcome     object\ny            object\ndtype: object"
                    }, 
                    "output_type": "execute_result"
                }
            ], 
            "source": "df.dtypes"
        }, 
        {
            "source": "## Exploring Data!", 
            "cell_type": "markdown", 
            "metadata": {}
        }, 
        {
            "execution_count": 27, 
            "cell_type": "code", 
            "metadata": {}, 
            "outputs": [
                {
                    "execution_count": 27, 
                    "metadata": {}, 
                    "data": {
                        "text/plain": "blue-collar      9732\nmanagement       9458\ntechnician       7597\nadmin.           5171\nservices         4154\nretired          2264\nself-employed    1579\nentrepreneur     1487\nunemployed       1303\nhousemaid        1240\nstudent           938\nunknown           288\nName: job, dtype: int64"
                    }, 
                    "output_type": "execute_result"
                }
            ], 
            "source": "j = df['job']\nj.value_counts()"
        }, 
        {
            "execution_count": 38, 
            "cell_type": "code", 
            "metadata": {}, 
            "outputs": [
                {
                    "output_type": "stream", 
                    "name": "stdout", 
                    "text": "max =  95 min =  18\n"
                }
            ], 
            "source": "#Grouping age in 4 bins\nimport numpy as np\nbins = np.linspace(min(df['age']), max(df['age']), 4)\nprint('max = ',  max(df['age']), 'min = ', min(df['age']))\ngroup_names = [\"young\", \"adult\", \"senior\"]\ndf['age_binned'] = pd.cut(df['age'], bins, labels = group_names, include_lowest = 'true')"
        }, 
        {
            "execution_count": 39, 
            "cell_type": "code", 
            "metadata": {}, 
            "outputs": [
                {
                    "execution_count": 39, 
                    "metadata": {}, 
                    "data": {
                        "text/plain": "0    adult\n1    adult\n2    young\n3    adult\n4    young\nName: age_binned, dtype: category\nCategories (3, object): [young < adult < senior]"
                    }, 
                    "output_type": "execute_result"
                }
            ], 
            "source": "df['age_binned'].head()"
        }, 
        {
            "execution_count": 40, 
            "cell_type": "code", 
            "metadata": {}, 
            "outputs": [
                {
                    "execution_count": 40, 
                    "metadata": {}, 
                    "data": {
                        "text/plain": "young     28411\nadult     16246\nsenior      554\nName: age_binned, dtype: int64"
                    }, 
                    "output_type": "execute_result"
                }
            ], 
            "source": "a = df['age_binned']\na.value_counts()"
        }, 
        {
            "execution_count": 41, 
            "cell_type": "code", 
            "metadata": {}, 
            "outputs": [
                {
                    "execution_count": 41, 
                    "metadata": {}, 
                    "data": {
                        "text/html": "<div>\n<style scoped>\n    .dataframe tbody tr th:only-of-type {\n        vertical-align: middle;\n    }\n\n    .dataframe tbody tr th {\n        vertical-align: top;\n    }\n\n    .dataframe thead th {\n        text-align: right;\n    }\n</style>\n<table border=\"1\" class=\"dataframe\">\n  <thead>\n    <tr style=\"text-align: right;\">\n      <th></th>\n      <th>age</th>\n      <th>job</th>\n      <th>marital</th>\n      <th>education</th>\n      <th>default</th>\n      <th>balance</th>\n      <th>housing</th>\n      <th>loan</th>\n      <th>contact</th>\n      <th>day</th>\n      <th>month</th>\n      <th>duration</th>\n      <th>campaign</th>\n      <th>pdays</th>\n      <th>previous</th>\n      <th>poutcome</th>\n      <th>y</th>\n      <th>age_binned</th>\n    </tr>\n  </thead>\n  <tbody>\n    <tr>\n      <th>0</th>\n      <td>58</td>\n      <td>management</td>\n      <td>married</td>\n      <td>tertiary</td>\n      <td>no</td>\n      <td>2143</td>\n      <td>yes</td>\n      <td>no</td>\n      <td>unknown</td>\n      <td>5</td>\n      <td>5</td>\n      <td>261</td>\n      <td>1</td>\n      <td>-1</td>\n      <td>0</td>\n      <td>unknown</td>\n      <td>no</td>\n      <td>adult</td>\n    </tr>\n    <tr>\n      <th>1</th>\n      <td>44</td>\n      <td>technician</td>\n      <td>single</td>\n      <td>secondary</td>\n      <td>no</td>\n      <td>29</td>\n      <td>yes</td>\n      <td>no</td>\n      <td>unknown</td>\n      <td>5</td>\n      <td>5</td>\n      <td>151</td>\n      <td>1</td>\n      <td>-1</td>\n      <td>0</td>\n      <td>unknown</td>\n      <td>no</td>\n      <td>adult</td>\n    </tr>\n    <tr>\n      <th>2</th>\n      <td>33</td>\n      <td>entrepreneur</td>\n      <td>married</td>\n      <td>secondary</td>\n      <td>no</td>\n      <td>2</td>\n      <td>yes</td>\n      <td>yes</td>\n      <td>unknown</td>\n      <td>5</td>\n      <td>5</td>\n      <td>76</td>\n      <td>1</td>\n      <td>-1</td>\n      <td>0</td>\n      <td>unknown</td>\n      <td>no</td>\n      <td>young</td>\n    </tr>\n    <tr>\n      <th>3</th>\n      <td>47</td>\n      <td>blue-collar</td>\n      <td>married</td>\n      <td>unknown</td>\n      <td>no</td>\n      <td>1506</td>\n      <td>yes</td>\n      <td>no</td>\n      <td>unknown</td>\n      <td>5</td>\n      <td>5</td>\n      <td>92</td>\n      <td>1</td>\n      <td>-1</td>\n      <td>0</td>\n      <td>unknown</td>\n      <td>no</td>\n      <td>adult</td>\n    </tr>\n    <tr>\n      <th>4</th>\n      <td>33</td>\n      <td>unknown</td>\n      <td>single</td>\n      <td>unknown</td>\n      <td>no</td>\n      <td>1</td>\n      <td>no</td>\n      <td>no</td>\n      <td>unknown</td>\n      <td>5</td>\n      <td>5</td>\n      <td>198</td>\n      <td>1</td>\n      <td>-1</td>\n      <td>0</td>\n      <td>unknown</td>\n      <td>no</td>\n      <td>young</td>\n    </tr>\n  </tbody>\n</table>\n</div>", 
                        "text/plain": "   age           job  marital  education default  balance housing loan  \\\n0   58    management  married   tertiary      no     2143     yes   no   \n1   44    technician   single  secondary      no       29     yes   no   \n2   33  entrepreneur  married  secondary      no        2     yes  yes   \n3   47   blue-collar  married    unknown      no     1506     yes   no   \n4   33       unknown   single    unknown      no        1      no   no   \n\n   contact  day  month  duration  campaign  pdays  previous poutcome   y  \\\n0  unknown    5      5       261         1     -1         0  unknown  no   \n1  unknown    5      5       151         1     -1         0  unknown  no   \n2  unknown    5      5        76         1     -1         0  unknown  no   \n3  unknown    5      5        92         1     -1         0  unknown  no   \n4  unknown    5      5       198         1     -1         0  unknown  no   \n\n  age_binned  \n0      adult  \n1      adult  \n2      young  \n3      adult  \n4      young  "
                    }, 
                    "output_type": "execute_result"
                }
            ], 
            "source": "df.head()"
        }, 
        {
            "execution_count": 42, 
            "cell_type": "code", 
            "metadata": {}, 
            "outputs": [
                {
                    "execution_count": 42, 
                    "metadata": {}, 
                    "data": {
                        "text/plain": "cellular     29285\nunknown      13020\ntelephone     2906\nName: contact, dtype: int64"
                    }, 
                    "output_type": "execute_result"
                }
            ], 
            "source": "df['contact'].value_counts()"
        }, 
        {
            "execution_count": 43, 
            "cell_type": "code", 
            "metadata": {}, 
            "outputs": [
                {
                    "execution_count": 43, 
                    "metadata": {}, 
                    "data": {
                        "text/plain": "secondary    23202\ntertiary     13301\nprimary       6851\nunknown       1857\nName: education, dtype: int64"
                    }, 
                    "output_type": "execute_result"
                }
            ], 
            "source": "df['education'].value_counts()"
        }, 
        {
            "execution_count": 44, 
            "cell_type": "code", 
            "metadata": {}, 
            "outputs": [
                {
                    "execution_count": 44, 
                    "metadata": {}, 
                    "data": {
                        "text/plain": "yes    25130\nno     20081\nName: housing, dtype: int64"
                    }, 
                    "output_type": "execute_result"
                }
            ], 
            "source": "df['housing'].value_counts()"
        }, 
        {
            "execution_count": 45, 
            "cell_type": "code", 
            "metadata": {}, 
            "outputs": [
                {
                    "execution_count": 45, 
                    "metadata": {}, 
                    "data": {
                        "text/plain": "no     39922\nyes     5289\nName: y, dtype: int64"
                    }, 
                    "output_type": "execute_result"
                }
            ], 
            "source": "df['y'].value_counts()"
        }, 
        {
            "source": "## Some Graphics", 
            "cell_type": "markdown", 
            "metadata": {}
        }, 
        {
            "execution_count": 46, 
            "cell_type": "code", 
            "metadata": {}, 
            "outputs": [], 
            "source": "import seaborn as sns"
        }, 
        {
            "execution_count": 49, 
            "cell_type": "code", 
            "metadata": {}, 
            "outputs": [
                {
                    "execution_count": 49, 
                    "metadata": {}, 
                    "data": {
                        "text/plain": "<matplotlib.axes._subplots.AxesSubplot at 0x7fd7cd16d898>"
                    }, 
                    "output_type": "execute_result"
                }, 
                {
                    "output_type": "display_data", 
                    "data": {
                        "image/png": "[encoded data removed]", 
                        "text/plain": "<Figure size 432x288 with 1 Axes>"
                    }, 
                    "metadata": {
                        "needs_background": "light"
                    }
                }
            ], 
            "source": "#Does the call lenght matters?\nsns.boxplot(x = 'duration', y = 'y', data = df)"
        }, 
        {
            "execution_count": 50, 
            "cell_type": "code", 
            "metadata": {}, 
            "outputs": [
                {
                    "execution_count": 50, 
                    "metadata": {}, 
                    "data": {
                        "text/plain": "<matplotlib.axes._subplots.AxesSubplot at 0x7fd7cd0ddf98>"
                    }, 
                    "output_type": "execute_result"
                }, 
                {
                    "output_type": "display_data", 
                    "data": {
                        "image/png": "[encoded data removed]", 
                        "text/plain": "<Figure size 432x288 with 1 Axes>"
                    }, 
                    "metadata": {
                        "needs_background": "light"
                    }
                }
            ], 
            "source": "#Does the balance matters?\nsns.boxplot(x = 'balance', y = 'y', data = df)"
        }, 
        {
            "execution_count": 51, 
            "cell_type": "code", 
            "metadata": {}, 
            "outputs": [], 
            "source": "from scipy import stats"
        }, 
        {
            "execution_count": 53, 
            "cell_type": "code", 
            "metadata": {}, 
            "outputs": [
                {
                    "execution_count": 53, 
                    "metadata": {}, 
                    "data": {
                        "text/plain": "<matplotlib.axes._subplots.AxesSubplot at 0x7fd7cd0d24a8>"
                    }, 
                    "output_type": "execute_result"
                }, 
                {
                    "output_type": "display_data", 
                    "data": {
                        "image/png": "[encoded data removed]", 
                        "text/plain": "<Figure size 432x288 with 1 Axes>"
                    }, 
                    "metadata": {
                        "needs_background": "light"
                    }
                }
            ], 
            "source": "#Does the age matters?\nsns.boxplot(x = 'age', y = 'y', data = df)"
        }, 
        {
            "execution_count": null, 
            "cell_type": "code", 
            "metadata": {}, 
            "outputs": [], 
            "source": ""
        }
    ], 
    "metadata": {
        "kernelspec": {
            "display_name": "Python 3.6", 
            "name": "python3", 
            "language": "python"
        }, 
        "language_info": {
            "mimetype": "text/x-python", 
            "nbconvert_exporter": "python", 
            "version": "3.6.8", 
            "name": "python", 
            "file_extension": ".py", 
            "pygments_lexer": "ipython3", 
            "codemirror_mode": {
                "version": 3, 
                "name": "ipython"
            }
        }
    }, 
    "nbformat": 4
}