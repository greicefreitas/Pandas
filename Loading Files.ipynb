{
    "nbformat_minor": 1, 
    "cells": [
        {
            "source": "# Bank Client Data", 
            "cell_type": "markdown", 
            "metadata": {
                "collapsed": true
            }
        }, 
        {
            "execution_count": 2, 
            "cell_type": "code", 
            "metadata": {}, 
            "outputs": [], 
            "source": "# Importing Pandas library\nimport pandas as pd"
        }, 
        {
            "execution_count": 3, 
            "cell_type": "code", 
            "metadata": {}, 
            "outputs": [
                {
                    "execution_count": 3, 
                    "metadata": {}, 
                    "data": {
                        "text/plain": "(45211, 17)"
                    }, 
                    "output_type": "execute_result"
                }
            ], 
            "source": "# The code was removed by Watson Studio for sharing."
        }, 
        {
            "execution_count": 4, 
            "cell_type": "code", 
            "metadata": {}, 
            "outputs": [
                {
                    "output_type": "stream", 
                    "name": "stdout", 
                    "text": "<class 'pandas.core.frame.DataFrame'>\nRangeIndex: 45211 entries, 0 to 45210\nData columns (total 17 columns):\nage          45211 non-null int64\njob          45211 non-null object\nmarital      45211 non-null object\neducation    45211 non-null object\ndefault      45211 non-null object\nbalance      45211 non-null int64\nhousing      45211 non-null object\nloan         45211 non-null object\ncontact      45211 non-null object\nday          45211 non-null int64\nmonth        45211 non-null object\nduration     45211 non-null int64\ncampaign     45211 non-null int64\npdays        45211 non-null int64\nprevious     45211 non-null int64\npoutcome     45211 non-null object\ny            45211 non-null object\ndtypes: int64(7), object(10)\nmemory usage: 5.9+ MB\n"
                }
            ], 
            "source": "df.info()"
        }, 
        {
            "source": "\n   # Bank Client Data:\n   \n   1 - age (numeric)   \n   2 - job : type of job (categorical:   \"admin.\",\"unknown\",\"unemployed\",\"management\",\"housemaid\",\"entrepreneur\",\"student\",\n                                       \"blue-collar\",\"self-employed\",\"retired\",\"technician\",\"services\")   \n   3 - marital : marital status (categorical: \"married\",\"divorced\",\"single\"; note: \"divorced\" means divorced or widowed)   \n   4 - education (categorical: \"unknown\",\"secondary\",\"primary\",\"tertiary\")  \n   5 - default: has credit in default? (binary: \"yes\",\"no\")  \n   6 - balance: average yearly balance, in euros (numeric)   \n   7 - housing: has housing loan? (binary: \"yes\",\"no\")  \n   8 - loan: has personal loan? (binary: \"yes\",\"no\")  \n   \n   ### related with the last contact of the current campaign:\n   \n   9 - contact: contact communication type (categorical: \"unknown\",\"telephone\",\"cellular\")   \n  10 - day: last contact day of the month (numeric)  \n  11 - month: last contact month of year (categorical: \"jan\", \"feb\", \"mar\", ..., \"nov\", \"dec\")  \n  12 - duration: last contact duration, in seconds (numeric)  \n  \n   ### other attributes:\n   \n  13 - campaign: number of contacts performed during this campaign and for this client (numeric, includes last contact)  \n  14 - pdays: number of days that passed by after the client was last contacted from a previous campaign (numeric, -1 means client was not previously contacted)  \n  15 - previous: number of contacts performed before this campaign and for this client (numeric)    \n  16 - poutcome: outcome of the previous marketing campaign (categorical: \"unknown\",\"other\",\"failure\",\"success\")  \n\n  ### Output variable (desired target):  \n  17 - y - has the client subscribed a term deposit? (binary: \"yes\",\"no\")\n", 
            "cell_type": "markdown", 
            "metadata": {}
        }, 
        {
            "execution_count": 5, 
            "cell_type": "code", 
            "metadata": {}, 
            "outputs": [
                {
                    "execution_count": 5, 
                    "metadata": {}, 
                    "data": {
                        "text/plain": "age           int64\njob          object\nmarital      object\neducation    object\ndefault      object\nbalance       int64\nhousing      object\nloan         object\ncontact      object\nday           int64\nmonth        object\nduration      int64\ncampaign      int64\npdays         int64\nprevious      int64\npoutcome     object\ny            object\ndtype: object"
                    }, 
                    "output_type": "execute_result"
                }
            ], 
            "source": "df.dtypes"
        }, 
        {
            "execution_count": 25, 
            "cell_type": "code", 
            "metadata": {}, 
            "outputs": [
                {
                    "output_type": "stream", 
                    "name": "stdout", 
                    "text": "age False    45211\nName: age, dtype: int64 \n\njob False    45211\nName: job, dtype: int64 \n\nmarital False    45211\nName: marital, dtype: int64 \n\neducation False    45211\nName: education, dtype: int64 \n\ndefault False    45211\nName: default, dtype: int64 \n\nbalance False    45211\nName: balance, dtype: int64 \n\nhousing False    45211\nName: housing, dtype: int64 \n\nloan False    45211\nName: loan, dtype: int64 \n\ncontact False    45211\nName: contact, dtype: int64 \n\nday False    45211\nName: day, dtype: int64 \n\nmonth False    45211\nName: month, dtype: int64 \n\nduration False    45211\nName: duration, dtype: int64 \n\ncampaign False    45211\nName: campaign, dtype: int64 \n\npdays False    45211\nName: pdays, dtype: int64 \n\nprevious False    45211\nName: previous, dtype: int64 \n\npoutcome False    45211\nName: poutcome, dtype: int64 \n\n"
                }
            ], 
            "source": "# Looking for missing data:\n\nfor i in range(16):\n    missing = pd.isna(df.iloc[:,i])\n    print(df.columns.tolist()[i], missing.value_counts(), '\\n')\n"
        }, 
        {
            "execution_count": 42, 
            "cell_type": "code", 
            "metadata": {
                "scrolled": true
            }, 
            "outputs": [
                {
                    "output_type": "stream", 
                    "name": "stdout", 
                    "text": "0         5\n1         5\n2         5\n3         5\n4         5\n5         5\n6         5\n7         5\n8         5\n9         5\n10        5\n11        5\n12        5\n13        5\n14        5\n15        5\n16        5\n17        5\n18        5\n19        5\n20        5\n21        5\n22        5\n23        5\n24        5\n25        5\n26        5\n27        5\n28        5\n29        5\n         ..\n45181    11\n45182    11\n45183    11\n45184    11\n45185    11\n45186    11\n45187    11\n45188    11\n45189    11\n45190    11\n45191    11\n45192    11\n45193    11\n45194    11\n45195    11\n45196    11\n45197    11\n45198    11\n45199    11\n45200    11\n45201    11\n45202    11\n45203    11\n45204    11\n45205    11\n45206    11\n45207    11\n45208    11\n45209    11\n45210    11\nName: month, Length: 45211, dtype: int64\n"
                }
            ], 
            "source": "# working on 11 - month: last contact month of year (categorical: \"jan\", \"feb\", \"mar\", ..., \"nov\", \"dec\")\nD_months = {'jan': 1, 'feb': 2, 'mar': 3, 'apr': 4, 'may': 5, 'jun': 6, 'jul': 7, 'aug': 8, 'sep': 9, 'oct': 10, 'nov': 11, 'dec': 12}\ndf['month'].replace(to_replace = D_months,  inplace=True)\nprint(df['month'])\n"
        }, 
        {
            "execution_count": 43, 
            "cell_type": "code", 
            "metadata": {}, 
            "outputs": [
                {
                    "execution_count": 43, 
                    "metadata": {}, 
                    "data": {
                        "text/plain": "age           int64\njob          object\nmarital      object\neducation    object\ndefault      object\nbalance       int64\nhousing      object\nloan         object\ncontact      object\nday           int64\nmonth         int64\nduration      int64\ncampaign      int64\npdays         int64\nprevious      int64\npoutcome     object\ny            object\ndtype: object"
                    }, 
                    "output_type": "execute_result"
                }
            ], 
            "source": "df.dtypes"
        }, 
        {
            "execution_count": 49, 
            "cell_type": "code", 
            "metadata": {}, 
            "outputs": [], 
            "source": "# No/Yes to 0/1\n# Columns: default, housing, loan, y\nD_y_n = {'yes': 1, 'no': 0}\ndf['default'].replace(to_replace = D_y_n,  inplace=True)\ndf['housing'].replace(to_replace = D_y_n,  inplace=True)\ndf['loan'].replace(to_replace = D_y_n,  inplace=True)\ndf['y'].replace(to_replace = D_y_n,  inplace=True)"
        }, 
        {
            "execution_count": 50, 
            "cell_type": "code", 
            "metadata": {}, 
            "outputs": [
                {
                    "execution_count": 50, 
                    "metadata": {}, 
                    "data": {
                        "text/html": "<div>\n<style scoped>\n    .dataframe tbody tr th:only-of-type {\n        vertical-align: middle;\n    }\n\n    .dataframe tbody tr th {\n        vertical-align: top;\n    }\n\n    .dataframe thead th {\n        text-align: right;\n    }\n</style>\n<table border=\"1\" class=\"dataframe\">\n  <thead>\n    <tr style=\"text-align: right;\">\n      <th></th>\n      <th>default</th>\n      <th>housing</th>\n      <th>loan</th>\n      <th>y</th>\n    </tr>\n  </thead>\n  <tbody>\n    <tr>\n      <th>0</th>\n      <td>0</td>\n      <td>1</td>\n      <td>0</td>\n      <td>0</td>\n    </tr>\n    <tr>\n      <th>1</th>\n      <td>0</td>\n      <td>1</td>\n      <td>0</td>\n      <td>0</td>\n    </tr>\n    <tr>\n      <th>2</th>\n      <td>0</td>\n      <td>1</td>\n      <td>1</td>\n      <td>0</td>\n    </tr>\n    <tr>\n      <th>3</th>\n      <td>0</td>\n      <td>1</td>\n      <td>0</td>\n      <td>0</td>\n    </tr>\n    <tr>\n      <th>4</th>\n      <td>0</td>\n      <td>0</td>\n      <td>0</td>\n      <td>0</td>\n    </tr>\n    <tr>\n      <th>5</th>\n      <td>0</td>\n      <td>1</td>\n      <td>0</td>\n      <td>0</td>\n    </tr>\n    <tr>\n      <th>6</th>\n      <td>0</td>\n      <td>1</td>\n      <td>1</td>\n      <td>0</td>\n    </tr>\n    <tr>\n      <th>7</th>\n      <td>1</td>\n      <td>1</td>\n      <td>0</td>\n      <td>0</td>\n    </tr>\n    <tr>\n      <th>8</th>\n      <td>0</td>\n      <td>1</td>\n      <td>0</td>\n      <td>0</td>\n    </tr>\n    <tr>\n      <th>9</th>\n      <td>0</td>\n      <td>1</td>\n      <td>0</td>\n      <td>0</td>\n    </tr>\n    <tr>\n      <th>10</th>\n      <td>0</td>\n      <td>1</td>\n      <td>0</td>\n      <td>0</td>\n    </tr>\n    <tr>\n      <th>11</th>\n      <td>0</td>\n      <td>1</td>\n      <td>0</td>\n      <td>0</td>\n    </tr>\n    <tr>\n      <th>12</th>\n      <td>0</td>\n      <td>1</td>\n      <td>0</td>\n      <td>0</td>\n    </tr>\n    <tr>\n      <th>13</th>\n      <td>0</td>\n      <td>1</td>\n      <td>0</td>\n      <td>0</td>\n    </tr>\n    <tr>\n      <th>14</th>\n      <td>0</td>\n      <td>1</td>\n      <td>0</td>\n      <td>0</td>\n    </tr>\n    <tr>\n      <th>15</th>\n      <td>0</td>\n      <td>1</td>\n      <td>0</td>\n      <td>0</td>\n    </tr>\n    <tr>\n      <th>16</th>\n      <td>0</td>\n      <td>1</td>\n      <td>0</td>\n      <td>0</td>\n    </tr>\n    <tr>\n      <th>17</th>\n      <td>0</td>\n      <td>1</td>\n      <td>0</td>\n      <td>0</td>\n    </tr>\n    <tr>\n      <th>18</th>\n      <td>0</td>\n      <td>1</td>\n      <td>0</td>\n      <td>0</td>\n    </tr>\n    <tr>\n      <th>19</th>\n      <td>0</td>\n      <td>1</td>\n      <td>0</td>\n      <td>0</td>\n    </tr>\n    <tr>\n      <th>20</th>\n      <td>0</td>\n      <td>1</td>\n      <td>1</td>\n      <td>0</td>\n    </tr>\n    <tr>\n      <th>21</th>\n      <td>0</td>\n      <td>1</td>\n      <td>0</td>\n      <td>0</td>\n    </tr>\n    <tr>\n      <th>22</th>\n      <td>0</td>\n      <td>1</td>\n      <td>1</td>\n      <td>0</td>\n    </tr>\n    <tr>\n      <th>23</th>\n      <td>0</td>\n      <td>1</td>\n      <td>0</td>\n      <td>0</td>\n    </tr>\n    <tr>\n      <th>24</th>\n      <td>0</td>\n      <td>1</td>\n      <td>1</td>\n      <td>0</td>\n    </tr>\n    <tr>\n      <th>25</th>\n      <td>0</td>\n      <td>1</td>\n      <td>0</td>\n      <td>0</td>\n    </tr>\n    <tr>\n      <th>26</th>\n      <td>0</td>\n      <td>1</td>\n      <td>0</td>\n      <td>0</td>\n    </tr>\n    <tr>\n      <th>27</th>\n      <td>0</td>\n      <td>1</td>\n      <td>1</td>\n      <td>0</td>\n    </tr>\n    <tr>\n      <th>28</th>\n      <td>0</td>\n      <td>1</td>\n      <td>0</td>\n      <td>0</td>\n    </tr>\n    <tr>\n      <th>29</th>\n      <td>0</td>\n      <td>1</td>\n      <td>1</td>\n      <td>0</td>\n    </tr>\n    <tr>\n      <th>...</th>\n      <td>...</td>\n      <td>...</td>\n      <td>...</td>\n      <td>...</td>\n    </tr>\n    <tr>\n      <th>45181</th>\n      <td>0</td>\n      <td>0</td>\n      <td>0</td>\n      <td>0</td>\n    </tr>\n    <tr>\n      <th>45182</th>\n      <td>0</td>\n      <td>0</td>\n      <td>0</td>\n      <td>1</td>\n    </tr>\n    <tr>\n      <th>45183</th>\n      <td>0</td>\n      <td>0</td>\n      <td>0</td>\n      <td>0</td>\n    </tr>\n    <tr>\n      <th>45184</th>\n      <td>0</td>\n      <td>0</td>\n      <td>0</td>\n      <td>0</td>\n    </tr>\n    <tr>\n      <th>45185</th>\n      <td>0</td>\n      <td>1</td>\n      <td>0</td>\n      <td>1</td>\n    </tr>\n    <tr>\n      <th>45186</th>\n      <td>0</td>\n      <td>0</td>\n      <td>0</td>\n      <td>0</td>\n    </tr>\n    <tr>\n      <th>45187</th>\n      <td>0</td>\n      <td>1</td>\n      <td>0</td>\n      <td>1</td>\n    </tr>\n    <tr>\n      <th>45188</th>\n      <td>0</td>\n      <td>1</td>\n      <td>0</td>\n      <td>1</td>\n    </tr>\n    <tr>\n      <th>45189</th>\n      <td>0</td>\n      <td>0</td>\n      <td>0</td>\n      <td>0</td>\n    </tr>\n    <tr>\n      <th>45190</th>\n      <td>0</td>\n      <td>0</td>\n      <td>0</td>\n      <td>1</td>\n    </tr>\n    <tr>\n      <th>45191</th>\n      <td>0</td>\n      <td>1</td>\n      <td>0</td>\n      <td>1</td>\n    </tr>\n    <tr>\n      <th>45192</th>\n      <td>0</td>\n      <td>0</td>\n      <td>0</td>\n      <td>1</td>\n    </tr>\n    <tr>\n      <th>45193</th>\n      <td>0</td>\n      <td>0</td>\n      <td>0</td>\n      <td>1</td>\n    </tr>\n    <tr>\n      <th>45194</th>\n      <td>0</td>\n      <td>1</td>\n      <td>1</td>\n      <td>0</td>\n    </tr>\n    <tr>\n      <th>45195</th>\n      <td>0</td>\n      <td>0</td>\n      <td>0</td>\n      <td>1</td>\n    </tr>\n    <tr>\n      <th>45196</th>\n      <td>0</td>\n      <td>0</td>\n      <td>0</td>\n      <td>1</td>\n    </tr>\n    <tr>\n      <th>45197</th>\n      <td>0</td>\n      <td>1</td>\n      <td>0</td>\n      <td>1</td>\n    </tr>\n    <tr>\n      <th>45198</th>\n      <td>0</td>\n      <td>0</td>\n      <td>0</td>\n      <td>0</td>\n    </tr>\n    <tr>\n      <th>45199</th>\n      <td>0</td>\n      <td>1</td>\n      <td>0</td>\n      <td>0</td>\n    </tr>\n    <tr>\n      <th>45200</th>\n      <td>0</td>\n      <td>1</td>\n      <td>0</td>\n      <td>1</td>\n    </tr>\n    <tr>\n      <th>45201</th>\n      <td>0</td>\n      <td>0</td>\n      <td>0</td>\n      <td>1</td>\n    </tr>\n    <tr>\n      <th>45202</th>\n      <td>0</td>\n      <td>0</td>\n      <td>0</td>\n      <td>1</td>\n    </tr>\n    <tr>\n      <th>45203</th>\n      <td>0</td>\n      <td>0</td>\n      <td>0</td>\n      <td>1</td>\n    </tr>\n    <tr>\n      <th>45204</th>\n      <td>0</td>\n      <td>0</td>\n      <td>0</td>\n      <td>1</td>\n    </tr>\n    <tr>\n      <th>45205</th>\n      <td>0</td>\n      <td>0</td>\n      <td>1</td>\n      <td>1</td>\n    </tr>\n    <tr>\n      <th>45206</th>\n      <td>0</td>\n      <td>0</td>\n      <td>0</td>\n      <td>1</td>\n    </tr>\n    <tr>\n      <th>45207</th>\n      <td>0</td>\n      <td>0</td>\n      <td>0</td>\n      <td>1</td>\n    </tr>\n    <tr>\n      <th>45208</th>\n      <td>0</td>\n      <td>0</td>\n      <td>0</td>\n      <td>1</td>\n    </tr>\n    <tr>\n      <th>45209</th>\n      <td>0</td>\n      <td>0</td>\n      <td>0</td>\n      <td>0</td>\n    </tr>\n    <tr>\n      <th>45210</th>\n      <td>0</td>\n      <td>0</td>\n      <td>0</td>\n      <td>0</td>\n    </tr>\n  </tbody>\n</table>\n<p>45211 rows \u00d7 4 columns</p>\n</div>", 
                        "text/plain": "       default  housing  loan  y\n0            0        1     0  0\n1            0        1     0  0\n2            0        1     1  0\n3            0        1     0  0\n4            0        0     0  0\n5            0        1     0  0\n6            0        1     1  0\n7            1        1     0  0\n8            0        1     0  0\n9            0        1     0  0\n10           0        1     0  0\n11           0        1     0  0\n12           0        1     0  0\n13           0        1     0  0\n14           0        1     0  0\n15           0        1     0  0\n16           0        1     0  0\n17           0        1     0  0\n18           0        1     0  0\n19           0        1     0  0\n20           0        1     1  0\n21           0        1     0  0\n22           0        1     1  0\n23           0        1     0  0\n24           0        1     1  0\n25           0        1     0  0\n26           0        1     0  0\n27           0        1     1  0\n28           0        1     0  0\n29           0        1     1  0\n...        ...      ...   ... ..\n45181        0        0     0  0\n45182        0        0     0  1\n45183        0        0     0  0\n45184        0        0     0  0\n45185        0        1     0  1\n45186        0        0     0  0\n45187        0        1     0  1\n45188        0        1     0  1\n45189        0        0     0  0\n45190        0        0     0  1\n45191        0        1     0  1\n45192        0        0     0  1\n45193        0        0     0  1\n45194        0        1     1  0\n45195        0        0     0  1\n45196        0        0     0  1\n45197        0        1     0  1\n45198        0        0     0  0\n45199        0        1     0  0\n45200        0        1     0  1\n45201        0        0     0  1\n45202        0        0     0  1\n45203        0        0     0  1\n45204        0        0     0  1\n45205        0        0     1  1\n45206        0        0     0  1\n45207        0        0     0  1\n45208        0        0     0  1\n45209        0        0     0  0\n45210        0        0     0  0\n\n[45211 rows x 4 columns]"
                    }, 
                    "output_type": "execute_result"
                }
            ], 
            "source": "df[['default', 'housing', 'loan', 'y']]"
        }, 
        {
            "execution_count": null, 
            "cell_type": "code", 
            "metadata": {}, 
            "outputs": [], 
            "source": ""
        }
    ], 
    "metadata": {
        "kernelspec": {
            "display_name": "Python 3.6", 
            "name": "python3", 
            "language": "python"
        }, 
        "language_info": {
            "mimetype": "text/x-python", 
            "nbconvert_exporter": "python", 
            "version": "3.6.8", 
            "name": "python", 
            "file_extension": ".py", 
            "pygments_lexer": "ipython3", 
            "codemirror_mode": {
                "version": 3, 
                "name": "ipython"
            }
        }
    }, 
    "nbformat": 4
}