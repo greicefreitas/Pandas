{
    "nbformat_minor": 1, 
    "cells": [
        {
            "source": "# Studies in Python", 
            "cell_type": "markdown", 
            "metadata": {
                "collapsed": true
            }
        }, 
        {
            "source": "## Types", 
            "cell_type": "markdown", 
            "metadata": {}
        }, 
        {
            "source": "* integers (int)\n* real (float)\n* words (str)\n* boolean (bool)", 
            "cell_type": "markdown", 
            "metadata": {}
        }, 
        {
            "execution_count": 2, 
            "cell_type": "code", 
            "metadata": {}, 
            "outputs": [], 
            "source": "x = 21\ny = 3.75\nz = 'hello'\n"
        }, 
        {
            "execution_count": 5, 
            "cell_type": "code", 
            "metadata": {}, 
            "outputs": [
                {
                    "output_type": "stream", 
                    "name": "stdout", 
                    "text": "<class 'int'>\n<class 'float'>\n<class 'str'>\n"
                }
            ], 
            "source": "print(type(x))\nprint(type(y))\nprint(type(z))"
        }, 
        {
            "execution_count": 10, 
            "cell_type": "code", 
            "metadata": {}, 
            "outputs": [
                {
                    "output_type": "stream", 
                    "name": "stdout", 
                    "text": "hello\n"
                }
            ], 
            "source": "print(z)"
        }, 
        {
            "source": "_Using int() the values are trunc_", 
            "cell_type": "markdown", 
            "metadata": {}
        }, 
        {
            "execution_count": 7, 
            "cell_type": "code", 
            "metadata": {}, 
            "outputs": [
                {
                    "execution_count": 7, 
                    "metadata": {}, 
                    "data": {
                        "text/plain": "3"
                    }, 
                    "output_type": "execute_result"
                }
            ], 
            "source": "int(y)"
        }, 
        {
            "source": "_Bool returns true or false._\n\n    If bool = 1 \n        true\n    If bool = 0\n        false", 
            "cell_type": "markdown", 
            "metadata": {}
        }, 
        {
            "execution_count": 8, 
            "cell_type": "code", 
            "metadata": {}, 
            "outputs": [
                {
                    "output_type": "stream", 
                    "name": "stdout", 
                    "text": "True\n"
                }
            ], 
            "source": "print(bool(1))"
        }, 
        {
            "execution_count": 9, 
            "cell_type": "code", 
            "metadata": {}, 
            "outputs": [
                {
                    "output_type": "stream", 
                    "name": "stdout", 
                    "text": "False\n"
                }
            ], 
            "source": "print(bool(0))"
        }, 
        {
            "source": "_Division_", 
            "cell_type": "markdown", 
            "metadata": {}
        }, 
        {
            "execution_count": 13, 
            "cell_type": "code", 
            "metadata": {}, 
            "outputs": [
                {
                    "execution_count": 13, 
                    "metadata": {}, 
                    "data": {
                        "text/plain": "6.5"
                    }, 
                    "output_type": "execute_result"
                }
            ], 
            "source": "13/2\n#Result is a real number"
        }, 
        {
            "execution_count": 15, 
            "cell_type": "code", 
            "metadata": {}, 
            "outputs": [
                {
                    "execution_count": 15, 
                    "metadata": {}, 
                    "data": {
                        "text/plain": "6"
                    }, 
                    "output_type": "execute_result"
                }
            ], 
            "source": "13//2\n#Result is a int"
        }, 
        {
            "source": "### Strings Operations", 
            "cell_type": "markdown", 
            "metadata": {}
        }, 
        {
            "execution_count": 21, 
            "cell_type": "code", 
            "metadata": {}, 
            "outputs": [
                {
                    "output_type": "stream", 
                    "name": "stdout", 
                    "text": "Greice de Freitas\n<class 'str'>\nlength  = 17\n"
                }
            ], 
            "source": "Nam = 'Greice de Freitas'\nprint(Nam)\nprint(type(Nam))\nprint('length  =', len(Nam))"
        }, 
        {
            "execution_count": 27, 
            "cell_type": "code", 
            "metadata": {}, 
            "outputs": [
                {
                    "output_type": "stream", 
                    "name": "stdout", 
                    "text": "G\nr\n de Freitas\ns\n"
                }
            ], 
            "source": "print(Nam[0])\nprint(Nam[1])\nprint(Nam[6:17])\nprint(Nam[-1])"
        }, 
        {
            "execution_count": 33, 
            "cell_type": "code", 
            "metadata": {}, 
            "outputs": [
                {
                    "output_type": "stream", 
                    "name": "stdout", 
                    "text": "Greice de Freitas K\u00f6rbes\n"
                }
            ], 
            "source": "F_Nam = Nam + ' K\u00f6rbes'\nprint(F_Nam)"
        }, 
        {
            "execution_count": 35, 
            "cell_type": "code", 
            "metadata": {}, 
            "outputs": [
                {
                    "output_type": "stream", 
                    "name": "stdout", 
                    "text": "Greice de FreitasGreice de FreitasGreice de Freitas\n"
                }
            ], 
            "source": "Tri_Nam = Nam *3\nprint(Tri_Nam)"
        }, 
        {
            "execution_count": 36, 
            "cell_type": "code", 
            "metadata": {}, 
            "outputs": [
                {
                    "output_type": "stream", 
                    "name": "stdout", 
                    "text": "GREICE DE FREITAS\n"
                }
            ], 
            "source": "U_Nam = Nam.upper()\nprint(U_Nam)"
        }, 
        {
            "execution_count": 38, 
            "cell_type": "code", 
            "metadata": {}, 
            "outputs": [
                {
                    "output_type": "stream", 
                    "name": "stdout", 
                    "text": "Felipe de Freitas\n"
                }
            ], 
            "source": "F_Nam = Nam.replace('Greice', 'Felipe')\nprint(F_Nam)"
        }, 
        {
            "execution_count": 39, 
            "cell_type": "code", 
            "metadata": {}, 
            "outputs": [
                {
                    "execution_count": 39, 
                    "metadata": {}, 
                    "data": {
                        "text/plain": "-1"
                    }, 
                    "output_type": "execute_result"
                }
            ], 
            "source": "F_Nam.find('Greice')"
        }, 
        {
            "execution_count": 43, 
            "cell_type": "code", 
            "metadata": {}, 
            "outputs": [
                {
                    "execution_count": 43, 
                    "metadata": {}, 
                    "data": {
                        "text/plain": "10"
                    }, 
                    "output_type": "execute_result"
                }
            ], 
            "source": "F_Nam.find('Freitas')"
        }, 
        {
            "execution_count": 41, 
            "cell_type": "code", 
            "metadata": {}, 
            "outputs": [
                {
                    "execution_count": 41, 
                    "metadata": {}, 
                    "data": {
                        "text/plain": "'F'"
                    }, 
                    "output_type": "execute_result"
                }
            ], 
            "source": "F_Nam[10]"
        }, 
        {
            "execution_count": 47, 
            "cell_type": "code", 
            "metadata": {}, 
            "outputs": [
                {
                    "output_type": "stream", 
                    "name": "stdout", 
                    "text": "Greice de Freitas\nFelipe de Freitas\nGreice de Freitas\tFelipe de Freitas\nGreice de Freitas\\Felipe de Freitas\n"
                }
            ], 
            "source": "print(Nam + '\\n' + F_Nam) #New line\nprint(Nam + '\\t' + F_Nam) #Tab\nprint(Nam + '\\\\' + F_Nam) #\\"
        }, 
        {
            "source": "### Tuples and Lists", 
            "cell_type": "markdown", 
            "metadata": {}
        }, 
        {
            "source": "#### Tuples\nTuples are immutable; if a method is called, the original tuple doesn't change", 
            "cell_type": "markdown", 
            "metadata": {}
        }, 
        {
            "execution_count": 49, 
            "cell_type": "code", 
            "metadata": {}, 
            "outputs": [
                {
                    "output_type": "stream", 
                    "name": "stdout", 
                    "text": "(1, 2, 3, 4, 5)\n<class 'tuple'>\n"
                }
            ], 
            "source": "T1 = (1,2,3,4,5)\nprint(T1)\nprint(type(T1))"
        }, 
        {
            "execution_count": 52, 
            "cell_type": "code", 
            "metadata": {}, 
            "outputs": [
                {
                    "output_type": "stream", 
                    "name": "stdout", 
                    "text": "(-1, 0, 1, 2, 3, 4, 5, 6, 7)\n9\n"
                }
            ], 
            "source": "T2 = (-1,0) + T1 + (6,7)\nprint(T2)\nprint(len(T2))"
        }, 
        {
            "execution_count": 56, 
            "cell_type": "code", 
            "metadata": {}, 
            "outputs": [
                {
                    "output_type": "stream", 
                    "name": "stdout", 
                    "text": "-1\n3\n7\n"
                }
            ], 
            "source": "print(T2[0]) #index starts in 0\nprint(T2[4])\nprint(T2[8])"
        }, 
        {
            "source": "**Nesting:  Tuples of tuples**", 
            "cell_type": "markdown", 
            "metadata": {}
        }, 
        {
            "execution_count": 64, 
            "cell_type": "code", 
            "metadata": {}, 
            "outputs": [
                {
                    "output_type": "stream", 
                    "name": "stdout", 
                    "text": "(1, 2, 3, 4, 5, (1, 2), ('a', 'b', 'c'), ((20, 2.2), 3))\n<class 'tuple'>\n"
                }
            ], 
            "source": "T3 = T1 + ((1,2),('a','b','c'), ((20,2.2),3))\nprint(T3)\nprint(type(T3))"
        }, 
        {
            "execution_count": 68, 
            "cell_type": "code", 
            "metadata": {}, 
            "outputs": [
                {
                    "output_type": "stream", 
                    "name": "stdout", 
                    "text": "2\na\n2.2\n"
                }
            ], 
            "source": "#To acess elements from subsets\nprint(T3[5][1])\nprint(T3[6][0])\nprint(T3[7][0][1])"
        }, 
        {
            "source": "#### Lists", 
            "cell_type": "markdown", 
            "metadata": {}
        }, 
        {
            "execution_count": 70, 
            "cell_type": "code", 
            "metadata": {}, 
            "outputs": [
                {
                    "output_type": "stream", 
                    "name": "stdout", 
                    "text": "[1, 'a', 3, 'b', 5, 'c', 7]\n<class 'list'>\n7\n"
                }
            ], 
            "source": "L = [1,'a',3,'b',5,'c',7]\nprint(L)\nprint(type(L))\nprint(len(L))"
        }, 
        {
            "execution_count": 74, 
            "cell_type": "code", 
            "metadata": {}, 
            "outputs": [
                {
                    "output_type": "stream", 
                    "name": "stdout", 
                    "text": "[1, 'a', 3, 'b', 5, 'c', 7, 'd', 8, 'd', 8, 'd', 8, [1.3, 2.7], 'd', 8]\n[1, 'a', 3, 'b', 5, 'c', 7, 'd', 8, 'd', 8, 'd', 8, [1.3, 2.7], 'd', 8, [1.3, 2.7]]\n17\n"
                }
            ], 
            "source": "L.extend(['d',8]) #Thats the diference between lists and tuples!\nprint(L)\nL.append([1.3,2.7])\nprint(L)\nprint(len(L))"
        }, 
        {
            "execution_count": 77, 
            "cell_type": "code", 
            "metadata": {}, 
            "outputs": [
                {
                    "output_type": "stream", 
                    "name": "stdout", 
                    "text": "['Greice', 'de', 'Freitas']\n"
                }
            ], 
            "source": "#String to list:\nL_N = Nam.split()\nprint(L_N)"
        }, 
        {
            "execution_count": 82, 
            "cell_type": "code", 
            "metadata": {}, 
            "outputs": [
                {
                    "output_type": "stream", 
                    "name": "stdout", 
                    "text": "B = [1, 'a', 2]\nA = ['banana', 'a', 2]\nB = ['banana', 'a', 2]\n"
                }
            ], 
            "source": "#Aliasing:\nA = [1,'a',2]\nB = A\nprint('B =', B)\nA[0] = 'banana'\nprint('A =',A)\nprint('B =',B)\n"
        }, 
        {
            "execution_count": 85, 
            "cell_type": "code", 
            "metadata": {}, 
            "outputs": [
                {
                    "output_type": "stream", 
                    "name": "stdout", 
                    "text": "A =  ['banana', 'a', 2]\nB =  ['banana', 'a', 2]\nA =  ['banana', 'a', 2]\nB =  [1, 'a', 2]\n"
                }
            ], 
            "source": "#To clone:\nB = A[:]\nprint('A = ', A)\nprint('B = ', B)\nB[0] = 1\nprint('A = ', A)\nprint('B = ', B)"
        }, 
        {
            "execution_count": null, 
            "cell_type": "code", 
            "metadata": {}, 
            "outputs": [], 
            "source": ""
        }
    ], 
    "metadata": {
        "kernelspec": {
            "display_name": "Python 3.5", 
            "name": "python3", 
            "language": "python"
        }, 
        "language_info": {
            "mimetype": "text/x-python", 
            "nbconvert_exporter": "python", 
            "version": "3.5.5", 
            "name": "python", 
            "file_extension": ".py", 
            "pygments_lexer": "ipython3", 
            "codemirror_mode": {
                "version": 3, 
                "name": "ipython"
            }
        }
    }, 
    "nbformat": 4
}